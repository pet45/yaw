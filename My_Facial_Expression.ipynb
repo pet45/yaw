{
  "nbformat": 4,
  "nbformat_minor": 0,
  "metadata": {
    "colab": {
      "name": "My_Facial_Expression.ipynb",
      "provenance": [],
      "collapsed_sections": [],
      "include_colab_link": true
    },
    "kernelspec": {
      "name": "python3",
      "display_name": "Python 3"
    },
    "accelerator": "GPU"
  },
  "cells": [
    {
      "cell_type": "markdown",
      "metadata": {
        "id": "view-in-github",
        "colab_type": "text"
      },
      "source": [
        "<a href=\"https://colab.research.google.com/github/pet45/yaw/blob/master/My_Facial_Expression.ipynb\" target=\"_parent\"><img src=\"https://colab.research.google.com/assets/colab-badge.svg\" alt=\"Open In Colab\"/></a>"
      ]
    },
    {
      "cell_type": "code",
      "metadata": {
        "id": "UxGhWnd-hNi3"
      },
      "source": [
        "from google.colab import files\n",
        "uploaded = files.upload()"
      ],
      "execution_count": null,
      "outputs": []
    },
    {
      "cell_type": "code",
      "metadata": {
        "id": "KuDQ8xx1k67F"
      },
      "source": [
        "#unzip file \r\n",
        "!unzip -q emotion_images.zip"
      ],
      "execution_count": 1,
      "outputs": []
    },
    {
      "cell_type": "code",
      "metadata": {
        "id": "pOc2eBd8MRQX"
      },
      "source": [
        "#GDRIVEPATH='/content/drive/My Drive/ROOT/Work/UoN/CSY3025/dogs-vs-cats/'\n",
        "GDRIVEPATH=''"
      ],
      "execution_count": 2,
      "outputs": []
    },
    {
      "cell_type": "code",
      "metadata": {
        "id": "qzOpfHyPgE-N"
      },
      "source": [
        "import os, shutil\n",
        "\n",
        "base_dir = base_dir = GDRIVEPATH+'emotion_images'\n",
        "\n",
        "train_dir = os.path.join(base_dir, 'train')\n",
        "validation_dir = os.path.join(base_dir, 'validation')\n",
        "test_dir = os.path.join(base_dir, 'test')\n",
        "\n",
        "\n",
        "            #TRAINING CLASS folder\n",
        "train_happy_dir = os.path.join(train_dir, 'happy')              # train happy\n",
        "train_fear_dir = os.path.join(train_dir, 'fear')                # train fear\n",
        "train_sad_dir = os.path.join(train_dir, 'sad')                  # train sad\n",
        "train_neutral_dir = os.path.join(train_dir, 'neutral')          # train neutral\n",
        "train_angry_dir = os.path.join(train_dir, 'angry')              # train angry\n",
        "\n",
        "\n",
        "            #VALIDATION CLASS folder\n",
        "validation_happy_dir = os.path.join(validation_dir, 'happy')           # validate happy\n",
        "validation_fear_dir = os.path.join(validation_dir, 'fear')             # validate fear\n",
        "validation_sad_dir = os.path.join(validation_dir, 'sad')               # validate sad\n",
        "validation_neutral_dir = os.path.join(validation_dir, 'neutral')       # validate neutral\n",
        "validation_angry_dir = os.path.join(validation_dir, 'angry')           # validate angry\n",
        "\n",
        "\n",
        "             #TESTING CLASS folder\n",
        "test_happy_dir = os.path.join(test_dir, 'happy')                  # test happy\n",
        "test_fear_dir = os.path.join(test_dir, 'fear')                    # test fear\n",
        "test_sad_dir = os.path.join(test_dir, 'sad')                      # test sad\n",
        "test_neutral_dir = os.path.join(test_dir, 'neutral')              # test neutral\n",
        "test_angry_dir = os.path.join(test_dir, 'angry')                  # test angry\n"
      ],
      "execution_count": 3,
      "outputs": []
    },
    {
      "cell_type": "code",
      "metadata": {
        "id": "A_GkUh0CgtIn",
        "colab": {
          "base_uri": "https://localhost:8080/"
        },
        "outputId": "fd0af0ec-c9f8-4126-ec11-3f78b2d7cbdc"
      },
      "source": [
        "             #PRINT TRAINING label\r\n",
        "print('Total training happy images:', len(os.listdir(train_happy_dir)))        # print label train_happy\r\n",
        "print('Total training fear images:', len(os.listdir(train_fear_dir)))          # print label train_fear\r\n",
        "print('Total training sad images:', len(os.listdir(train_sad_dir)))            # print label train_sad\r\n",
        "print('Total training neutral images:', len(os.listdir(train_neutral_dir)))    # print label train_neutral\r\n",
        "print('Total training angry images:', len(os.listdir(train_angry_dir)))        # print label train_angry\r\n",
        "\r\n",
        "\r\n",
        "             #PRINT VALIDATION label\r\n",
        "print('Total validation  happy images:', len(os.listdir(validation_happy_dir)))       # print label validate_happy\r\n",
        "print('Total validation  fear images:', len(os.listdir(validation_fear_dir)))         # print label validate_fear\r\n",
        "print('Total validation  sad images:', len(os.listdir(validation_sad_dir)))           # print label validate_sad\r\n",
        "print('Total validation  neutral images:', len(os.listdir(validation_neutral_dir)))   # print label validate_neutral\r\n",
        "print('Total validation  angry images:', len(os.listdir(validation_angry_dir)))       # print label validate_angry\r\n",
        "\r\n",
        "\r\n",
        "             #PRINT TESTING label\r\n",
        "print('Total test  happy images:', len(os.listdir(test_happy_dir)))       # print label test_happy\r\n",
        "print('Total test  fear images:', len(os.listdir(test_fear_dir)))         # print label test_fear\r\n",
        "print('Total test sad images:', len(os.listdir(test_sad_dir)))            # print label test_sad\r\n",
        "print('Total test neutral images:', len(os.listdir(test_neutral_dir)))    # print label test_neutral\r\n",
        "print('Total test angry images:', len(os.listdir(test_angry_dir)))        # print label test_angry\r\n",
        "\r\n"
      ],
      "execution_count": 4,
      "outputs": [
        {
          "output_type": "stream",
          "text": [
            "Total training happy images: 7164\n",
            "Total training fear images: 3445\n",
            "Total training sad images: 4938\n",
            "Total training neutral images: 4160\n",
            "Total training angry images: 3367\n",
            "Total validation  happy images: 1825\n",
            "Total validation  fear images: 1018\n",
            "Total validation  sad images: 1139\n",
            "Total validation  neutral images: 1216\n",
            "Total validation  angry images: 960\n",
            "Total test  happy images: 1054\n",
            "Total test  fear images: 658\n",
            "Total test sad images: 791\n",
            "Total test neutral images: 822\n",
            "Total test angry images: 626\n"
          ],
          "name": "stdout"
        }
      ]
    },
    {
      "cell_type": "code",
      "metadata": {
        "id": "5BLzPNBrlY29"
      },
      "source": [
        "from keras import layers\n",
        "from keras import models\n",
        "\n",
        "model = models.Sequential()\n",
        "model.add(layers.Conv2D(32, (3, 3), activation='relu',\n",
        "                        input_shape=(48, 48, 1)))\n",
        "model.add(layers.MaxPooling2D((2, 2)))\n",
        "\n",
        "model.add(layers.Conv2D(64, (2, 2), activation='relu'))\n",
        "model.add(layers.MaxPooling2D((2, 2)))\n",
        "\n",
        "model.add(layers.Conv2D(128, (2, 2), activation='relu'))\n",
        "model.add(layers.MaxPooling2D((2, 2)))\n",
        "\n",
        "model.add(layers.Conv2D(512, (2, 2), activation='relu'))\n",
        "model.add(layers.MaxPooling2D((2, 2)))\n",
        "\n",
        "model.add(layers.Flatten())\n",
        "model.add(layers.Dense(512, activation='relu'))\n",
        "model.add(layers.Dense(5, activation='softmax'))"
      ],
      "execution_count": 5,
      "outputs": []
    },
    {
      "cell_type": "code",
      "metadata": {
        "id": "blq4BkcBlehX",
        "colab": {
          "base_uri": "https://localhost:8080/"
        },
        "outputId": "a3469e12-2ade-4c85-8bb5-ef86201b4e39"
      },
      "source": [
        "model.summary()\r\n"
      ],
      "execution_count": 6,
      "outputs": [
        {
          "output_type": "stream",
          "text": [
            "Model: \"sequential\"\n",
            "_________________________________________________________________\n",
            "Layer (type)                 Output Shape              Param #   \n",
            "=================================================================\n",
            "conv2d (Conv2D)              (None, 46, 46, 32)        320       \n",
            "_________________________________________________________________\n",
            "max_pooling2d (MaxPooling2D) (None, 23, 23, 32)        0         \n",
            "_________________________________________________________________\n",
            "conv2d_1 (Conv2D)            (None, 22, 22, 64)        8256      \n",
            "_________________________________________________________________\n",
            "max_pooling2d_1 (MaxPooling2 (None, 11, 11, 64)        0         \n",
            "_________________________________________________________________\n",
            "conv2d_2 (Conv2D)            (None, 10, 10, 128)       32896     \n",
            "_________________________________________________________________\n",
            "max_pooling2d_2 (MaxPooling2 (None, 5, 5, 128)         0         \n",
            "_________________________________________________________________\n",
            "conv2d_3 (Conv2D)            (None, 4, 4, 512)         262656    \n",
            "_________________________________________________________________\n",
            "max_pooling2d_3 (MaxPooling2 (None, 2, 2, 512)         0         \n",
            "_________________________________________________________________\n",
            "flatten (Flatten)            (None, 2048)              0         \n",
            "_________________________________________________________________\n",
            "dense (Dense)                (None, 512)               1049088   \n",
            "_________________________________________________________________\n",
            "dense_1 (Dense)              (None, 5)                 2565      \n",
            "=================================================================\n",
            "Total params: 1,355,781\n",
            "Trainable params: 1,355,781\n",
            "Non-trainable params: 0\n",
            "_________________________________________________________________\n"
          ],
          "name": "stdout"
        }
      ]
    },
    {
      "cell_type": "code",
      "metadata": {
        "id": "NHva5dr8ljco"
      },
      "source": [
        "from keras import optimizers\n",
        "\n",
        "model.compile(loss='categorical_crossentropy',\n",
        "              optimizer=optimizers.RMSprop(lr=1e-4),\n",
        "              metrics=['acc'])"
      ],
      "execution_count": 7,
      "outputs": []
    },
    {
      "cell_type": "code",
      "metadata": {
        "id": "ZGRyv85amtpU",
        "colab": {
          "base_uri": "https://localhost:8080/"
        },
        "outputId": "59579a61-e5ed-4e3e-8f74-274fd697a563"
      },
      "source": [
        "from keras.preprocessing.image import ImageDataGenerator\n",
        "\n",
        "train_datagen = ImageDataGenerator(rescale=1./255)\n",
        "test_datagen = ImageDataGenerator(rescale=1./255)\n",
        "\n",
        "train_generator = train_datagen.flow_from_directory(\n",
        "        train_dir,\n",
        "        target_size=(48, 48),\n",
        "        batch_size=64,\n",
        "        class_mode='categorical',\n",
        "        color_mode= 'grayscale')\n",
        "\n",
        "validation_generator = test_datagen.flow_from_directory(\n",
        "        validation_dir,\n",
        "        target_size=(48, 48),\n",
        "        batch_size=64,\n",
        "        class_mode='categorical',\n",
        "        color_mode= 'grayscale')"
      ],
      "execution_count": 8,
      "outputs": [
        {
          "output_type": "stream",
          "text": [
            "Found 23074 images belonging to 5 classes.\n",
            "Found 6158 images belonging to 5 classes.\n"
          ],
          "name": "stdout"
        }
      ]
    },
    {
      "cell_type": "code",
      "metadata": {
        "id": "-FNTJd1-3YSe",
        "colab": {
          "base_uri": "https://localhost:8080/"
        },
        "outputId": "0bae3aa9-3d5f-40f6-bffb-e884f113f08d"
      },
      "source": [
        "for data_batch, labels_batch in train_generator:\n",
        "     print('data batch shape:', data_batch.shape)\n",
        "     print('labels batch shape:', labels_batch.shape)\n",
        "     break"
      ],
      "execution_count": 9,
      "outputs": [
        {
          "output_type": "stream",
          "text": [
            "data batch shape: (64, 48, 48, 1)\n",
            "labels batch shape: (64, 5)\n"
          ],
          "name": "stdout"
        }
      ]
    },
    {
      "cell_type": "code",
      "metadata": {
        "id": "xoyLC8BF9Gtg",
        "colab": {
          "base_uri": "https://localhost:8080/"
        },
        "outputId": "6e71c379-a7de-40ec-d626-79bae9cc39b0"
      },
      "source": [
        "history = model.fit_generator(\n",
        "      train_generator,\n",
        "      steps_per_epoch=100,\n",
        "      epochs=50,\n",
        "      validation_data=validation_generator,\n",
        "      validation_steps=20)"
      ],
      "execution_count": 10,
      "outputs": [
        {
          "output_type": "stream",
          "text": [
            "/usr/local/lib/python3.6/dist-packages/tensorflow/python/keras/engine/training.py:1844: UserWarning: `Model.fit_generator` is deprecated and will be removed in a future version. Please use `Model.fit`, which supports generators.\n",
            "  warnings.warn('`Model.fit_generator` is deprecated and '\n"
          ],
          "name": "stderr"
        },
        {
          "output_type": "stream",
          "text": [
            "Epoch 1/50\n",
            "100/100 [==============================] - 10s 25ms/step - loss: 1.5753 - acc: 0.2952 - val_loss: 1.5691 - val_acc: 0.3133\n",
            "Epoch 2/50\n",
            "100/100 [==============================] - 2s 21ms/step - loss: 1.5560 - acc: 0.3243 - val_loss: 1.5816 - val_acc: 0.2820\n",
            "Epoch 3/50\n",
            "100/100 [==============================] - 2s 21ms/step - loss: 1.5525 - acc: 0.3236 - val_loss: 1.5682 - val_acc: 0.2930\n",
            "Epoch 4/50\n",
            "100/100 [==============================] - 2s 20ms/step - loss: 1.5424 - acc: 0.3284 - val_loss: 1.5685 - val_acc: 0.2977\n",
            "Epoch 5/50\n",
            "100/100 [==============================] - 2s 21ms/step - loss: 1.5324 - acc: 0.3304 - val_loss: 1.5276 - val_acc: 0.3203\n",
            "Epoch 6/50\n",
            "100/100 [==============================] - 2s 21ms/step - loss: 1.5170 - acc: 0.3480 - val_loss: 1.5024 - val_acc: 0.3695\n",
            "Epoch 7/50\n",
            "100/100 [==============================] - 2s 21ms/step - loss: 1.4806 - acc: 0.3728 - val_loss: 1.5051 - val_acc: 0.3320\n",
            "Epoch 8/50\n",
            "100/100 [==============================] - 2s 21ms/step - loss: 1.4641 - acc: 0.3764 - val_loss: 1.4509 - val_acc: 0.3961\n",
            "Epoch 9/50\n",
            "100/100 [==============================] - 2s 20ms/step - loss: 1.4439 - acc: 0.3996 - val_loss: 1.4466 - val_acc: 0.3914\n",
            "Epoch 10/50\n",
            "100/100 [==============================] - 2s 20ms/step - loss: 1.4359 - acc: 0.3954 - val_loss: 1.4375 - val_acc: 0.4117\n",
            "Epoch 11/50\n",
            "100/100 [==============================] - 2s 20ms/step - loss: 1.4000 - acc: 0.4203 - val_loss: 1.3970 - val_acc: 0.4016\n",
            "Epoch 12/50\n",
            "100/100 [==============================] - 2s 20ms/step - loss: 1.3880 - acc: 0.4311 - val_loss: 1.3949 - val_acc: 0.4219\n",
            "Epoch 13/50\n",
            "100/100 [==============================] - 2s 21ms/step - loss: 1.3616 - acc: 0.4433 - val_loss: 1.4059 - val_acc: 0.4039\n",
            "Epoch 14/50\n",
            "100/100 [==============================] - 2s 20ms/step - loss: 1.3485 - acc: 0.4392 - val_loss: 1.3649 - val_acc: 0.4281\n",
            "Epoch 15/50\n",
            "100/100 [==============================] - 2s 21ms/step - loss: 1.3302 - acc: 0.4628 - val_loss: 1.3376 - val_acc: 0.4516\n",
            "Epoch 16/50\n",
            "100/100 [==============================] - 2s 20ms/step - loss: 1.3280 - acc: 0.4438 - val_loss: 1.3284 - val_acc: 0.4617\n",
            "Epoch 17/50\n",
            "100/100 [==============================] - 2s 20ms/step - loss: 1.3057 - acc: 0.4679 - val_loss: 1.3482 - val_acc: 0.4500\n",
            "Epoch 18/50\n",
            "100/100 [==============================] - 2s 21ms/step - loss: 1.3086 - acc: 0.4605 - val_loss: 1.2841 - val_acc: 0.4711\n",
            "Epoch 19/50\n",
            "100/100 [==============================] - 2s 21ms/step - loss: 1.2713 - acc: 0.4745 - val_loss: 1.3178 - val_acc: 0.4641\n",
            "Epoch 20/50\n",
            "100/100 [==============================] - 2s 20ms/step - loss: 1.2715 - acc: 0.4827 - val_loss: 1.2709 - val_acc: 0.4969\n",
            "Epoch 21/50\n",
            "100/100 [==============================] - 2s 20ms/step - loss: 1.2614 - acc: 0.4826 - val_loss: 1.2703 - val_acc: 0.4688\n",
            "Epoch 22/50\n",
            "100/100 [==============================] - 2s 20ms/step - loss: 1.2474 - acc: 0.5058 - val_loss: 1.2714 - val_acc: 0.4844\n",
            "Epoch 23/50\n",
            "100/100 [==============================] - 2s 21ms/step - loss: 1.2478 - acc: 0.4942 - val_loss: 1.2802 - val_acc: 0.4734\n",
            "Epoch 24/50\n",
            "100/100 [==============================] - 2s 20ms/step - loss: 1.2203 - acc: 0.5058 - val_loss: 1.2423 - val_acc: 0.4789\n",
            "Epoch 25/50\n",
            "100/100 [==============================] - 2s 20ms/step - loss: 1.2207 - acc: 0.4962 - val_loss: 1.2478 - val_acc: 0.5055\n",
            "Epoch 26/50\n",
            "100/100 [==============================] - 2s 20ms/step - loss: 1.2125 - acc: 0.5184 - val_loss: 1.2355 - val_acc: 0.5016\n",
            "Epoch 27/50\n",
            "100/100 [==============================] - 2s 20ms/step - loss: 1.2229 - acc: 0.5010 - val_loss: 1.2857 - val_acc: 0.4750\n",
            "Epoch 28/50\n",
            "100/100 [==============================] - 2s 20ms/step - loss: 1.2111 - acc: 0.5139 - val_loss: 1.2144 - val_acc: 0.5125\n",
            "Epoch 29/50\n",
            "100/100 [==============================] - 2s 21ms/step - loss: 1.1861 - acc: 0.5285 - val_loss: 1.2413 - val_acc: 0.4992\n",
            "Epoch 30/50\n",
            "100/100 [==============================] - 2s 21ms/step - loss: 1.1690 - acc: 0.5328 - val_loss: 1.2286 - val_acc: 0.4984\n",
            "Epoch 31/50\n",
            "100/100 [==============================] - 2s 20ms/step - loss: 1.1791 - acc: 0.5211 - val_loss: 1.2012 - val_acc: 0.5180\n",
            "Epoch 32/50\n",
            "100/100 [==============================] - 2s 21ms/step - loss: 1.1609 - acc: 0.5353 - val_loss: 1.1962 - val_acc: 0.5281\n",
            "Epoch 33/50\n",
            "100/100 [==============================] - 2s 20ms/step - loss: 1.1751 - acc: 0.5303 - val_loss: 1.2561 - val_acc: 0.4891\n",
            "Epoch 34/50\n",
            "100/100 [==============================] - 2s 21ms/step - loss: 1.1505 - acc: 0.5458 - val_loss: 1.1757 - val_acc: 0.5281\n",
            "Epoch 35/50\n",
            "100/100 [==============================] - 2s 20ms/step - loss: 1.1234 - acc: 0.5523 - val_loss: 1.2358 - val_acc: 0.5039\n",
            "Epoch 36/50\n",
            "100/100 [==============================] - 2s 20ms/step - loss: 1.1270 - acc: 0.5464 - val_loss: 1.2082 - val_acc: 0.5227\n",
            "Epoch 37/50\n",
            "100/100 [==============================] - 2s 20ms/step - loss: 1.1337 - acc: 0.5573 - val_loss: 1.2034 - val_acc: 0.5016\n",
            "Epoch 38/50\n",
            "100/100 [==============================] - 2s 21ms/step - loss: 1.1097 - acc: 0.5528 - val_loss: 1.1649 - val_acc: 0.5227\n",
            "Epoch 39/50\n",
            "100/100 [==============================] - 2s 21ms/step - loss: 1.1061 - acc: 0.5551 - val_loss: 1.1760 - val_acc: 0.5273\n",
            "Epoch 40/50\n",
            "100/100 [==============================] - 2s 21ms/step - loss: 1.0878 - acc: 0.5678 - val_loss: 1.1835 - val_acc: 0.5180\n",
            "Epoch 41/50\n",
            "100/100 [==============================] - 2s 20ms/step - loss: 1.1061 - acc: 0.5635 - val_loss: 1.1818 - val_acc: 0.5234\n",
            "Epoch 42/50\n",
            "100/100 [==============================] - 2s 20ms/step - loss: 1.0841 - acc: 0.5729 - val_loss: 1.2174 - val_acc: 0.5063\n",
            "Epoch 43/50\n",
            "100/100 [==============================] - 2s 20ms/step - loss: 1.0724 - acc: 0.5672 - val_loss: 1.1334 - val_acc: 0.5289\n",
            "Epoch 44/50\n",
            "100/100 [==============================] - 2s 21ms/step - loss: 1.0644 - acc: 0.5760 - val_loss: 1.1699 - val_acc: 0.5367\n",
            "Epoch 45/50\n",
            "100/100 [==============================] - 2s 20ms/step - loss: 1.0693 - acc: 0.5801 - val_loss: 1.2025 - val_acc: 0.5172\n",
            "Epoch 46/50\n",
            "100/100 [==============================] - 2s 20ms/step - loss: 1.0460 - acc: 0.5855 - val_loss: 1.1627 - val_acc: 0.5328\n",
            "Epoch 47/50\n",
            "100/100 [==============================] - 2s 21ms/step - loss: 1.0444 - acc: 0.5873 - val_loss: 1.1043 - val_acc: 0.5594\n",
            "Epoch 48/50\n",
            "100/100 [==============================] - 2s 20ms/step - loss: 1.0441 - acc: 0.5984 - val_loss: 1.1659 - val_acc: 0.5297\n",
            "Epoch 49/50\n",
            "100/100 [==============================] - 2s 21ms/step - loss: 1.0532 - acc: 0.5795 - val_loss: 1.1173 - val_acc: 0.5555\n",
            "Epoch 50/50\n",
            "100/100 [==============================] - 2s 20ms/step - loss: 1.0169 - acc: 0.6015 - val_loss: 1.0934 - val_acc: 0.5656\n"
          ],
          "name": "stdout"
        }
      ]
    },
    {
      "cell_type": "code",
      "metadata": {
        "id": "hquceE_aK9VG",
        "colab": {
          "base_uri": "https://localhost:8080/"
        },
        "outputId": "e54decb0-713d-4c5f-f1f9-a0becf19b8bc"
      },
      "source": [
        "model.save(GDRIVEPATH+'saved_face_images')"
      ],
      "execution_count": 11,
      "outputs": [
        {
          "output_type": "stream",
          "text": [
            "INFO:tensorflow:Assets written to: saved_face_images/assets\n"
          ],
          "name": "stdout"
        }
      ]
    },
    {
      "cell_type": "code",
      "metadata": {
        "id": "3jYqDMPtdYYc",
        "colab": {
          "base_uri": "https://localhost:8080/",
          "height": 545
        },
        "outputId": "8102b040-8650-4b14-b14d-7c07c6469969"
      },
      "source": [
        "import matplotlib.pyplot as plt\n",
        "\n",
        "acc = history.history['acc']\n",
        "val_acc = history.history['val_acc']\n",
        "loss = history.history['loss']\n",
        "val_loss = history.history['val_loss']\n",
        "\n",
        "epochs = range(1, len(acc) + 1)\n",
        "\n",
        "plt.plot(epochs, acc, 'bo', label='Training acc')\n",
        "plt.plot(epochs, val_acc, 'b', label='Validation acc')\n",
        "plt.title('Training and validation accuracy')\n",
        "plt.legend()\n",
        "\n",
        "plt.figure()\n",
        "\n",
        "plt.plot(epochs, loss, 'bo', label='Training loss')\n",
        "plt.plot(epochs, val_loss, 'b', label='Validation loss')\n",
        "plt.title('Training and validation loss')\n",
        "plt.legend()\n",
        "\n",
        "plt.show()"
      ],
      "execution_count": 12,
      "outputs": [
        {
          "output_type": "display_data",
          "data": {
            "image/png": "[encoded data removed]",
            "text/plain": [
              "<Figure size 432x288 with 1 Axes>"
            ]
          },
          "metadata": {
            "tags": [],
            "needs_background": "light"
          }
        },
        {
          "output_type": "display_data",
          "data": {
            "image/png": "[encoded data removed]",
            "text/plain": [
              "<Figure size 432x288 with 1 Axes>"
            ]
          },
          "metadata": {
            "tags": [],
            "needs_background": "light"
          }
        }
      ]
    }
  ]
}